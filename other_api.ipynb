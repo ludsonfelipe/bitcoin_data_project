{
 "cells": [
  {
   "cell_type": "code",
   "execution_count": 2,
   "metadata": {},
   "outputs": [],
   "source": [
    "from datetime import datetime, timedelta\n",
    "import requests\n",
    "import json\n",
    "from time import sleep"
   ]
  },
  {
   "cell_type": "code",
   "execution_count": 12,
   "metadata": {},
   "outputs": [],
   "source": [
    "parameters = json.dumps({\n",
    "    'start': 1617035100000,\n",
    "    'end': 1617035400000,\n",
    "    'code': 'BTC',\n",
    "    'currency': 'USD',\n",
    "    'meta':False\n",
    "    })\n",
    "\n",
    "headers = {\n",
    "    'content-type': 'application/json',\n",
    "    'x-api-key': 'c0c5c02e-5472-404e-b697-52cdd7f982a3'\n",
    "}\n",
    "response = requests.post('https://api.livecoinwatch.com/coins/single/history', headers=headers, data=parameters)"
   ]
  },
  {
   "cell_type": "code",
   "execution_count": 13,
   "metadata": {},
   "outputs": [
    {
     "name": "stdout",
     "output_type": "stream",
     "text": [
      "{\"history\":[{\"date\":1617035100000,\"rate\":57423.117698281785,\"volume\":21698313338,\"cap\":1071967181340,\"liquidity\":1631457754},{\"date\":1617035400000,\"rate\":57522.12213570791,\"volume\":21926019834,\"cap\":1073817914083,\"liquidity\":1740349069}]}\n"
     ]
    }
   ],
   "source": [
    "print(response.text)"
   ]
  },
  {
   "cell_type": "code",
   "execution_count": null,
   "metadata": {},
   "outputs": [],
   "source": []
  }
 ],
 "metadata": {
  "kernelspec": {
   "display_name": "bitcoin_data",
   "language": "python",
   "name": "python3"
  },
  "language_info": {
   "codemirror_mode": {
    "name": "ipython",
    "version": 3
   },
   "file_extension": ".py",
   "mimetype": "text/x-python",
   "name": "python",
   "nbconvert_exporter": "python",
   "pygments_lexer": "ipython3",
   "version": "3.9.7"
  },
  "orig_nbformat": 4
 },
 "nbformat": 4,
 "nbformat_minor": 2
}
